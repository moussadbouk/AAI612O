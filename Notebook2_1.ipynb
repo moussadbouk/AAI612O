{
  "cells": [
    {
      "cell_type": "markdown",
      "metadata": {
        "id": "-OIw2k8-Atym"
      },
      "source": [
        "\n",
        "# AAI612: Deep Learning & its Applications\n",
        "\n",
        "\n",
        "*Notebook 2.1: Learning the XOR Functions*\n",
        "\n",
        "<a href=\"https://colab.research.google.com/github/harmanani/AAI612/blob/main/Week2/Notebook2.1.ipynb\" target=\"_parent\"><img src=\"https://colab.research.google.com/assets/colab-badge.svg\" alt=\"Open In Colab\"/></a>"
      ]
    },
    {
      "cell_type": "code",
      "execution_count": null,
      "metadata": {
        "id": "9Vn0YZGdAtyo"
      },
      "outputs": [],
      "source": [
        "\"\"\"\n",
        "The MIT License (MIT)\n",
        "\n",
        "Copyright (c) 2021 NVIDIA\n",
        "\n",
        "Permission is hereby granted, free of charge, to any person obtaining a copy of\n",
        "this software and associated documentation files (the \"Software\"), to deal in\n",
        "the Software without restriction, including without limitation the rights to\n",
        "use, copy, modify, merge, publish, distribute, sublicense, and/or sell copies of\n",
        "the Software, and to permit persons to whom the Software is furnished to do so,\n",
        "subject to the following conditions:\n",
        "\n",
        "The above copyright notice and this permission notice shall be included in all\n",
        "copies or substantial portions of the Software.\n",
        "\n",
        "THE SOFTWARE IS PROVIDED \"AS IS\", WITHOUT WARRANTY OF ANY KIND, EXPRESS OR\n",
        "IMPLIED, INCLUDING BUT NOT LIMITED TO THE WARRANTIES OF MERCHANTABILITY, FITNESS\n",
        "FOR A PARTICULAR PURPOSE AND NONINFRINGEMENT. IN NO EVENT SHALL THE AUTHORS OR\n",
        "COPYRIGHT HOLDERS BE LIABLE FOR ANY CLAIM, DAMAGES OR OTHER LIABILITY, WHETHER\n",
        "IN AN ACTION OF CONTRACT, TORT OR OTHERWISE, ARISING FROM, OUT OF OR IN\n",
        "CONNECTION WITH THE SOFTWARE OR THE USE OR OTHER DEALINGS IN THE SOFTWARE.\n",
        "\"\"\""
      ]
    },
    {
      "cell_type": "markdown",
      "metadata": {
        "id": "w1rM5VlOAtyp"
      },
      "source": [
        "### XOR Gate"
      ]
    },
    {
      "cell_type": "markdown",
      "metadata": {
        "id": "SFGNLBcQAtyq"
      },
      "source": [
        "This lab illustrates how the learning algorithm for multilevel feedforward networks works in practice using a simple XOR problem.  We use a the following three-neuron network:"
      ]
    },
    {
      "cell_type": "markdown",
      "metadata": {
        "id": "r2weX8coAtyq"
      },
      "source": [
        "<img src=\"https://github.com/harmanani/AAI612/blob/main/Week2/images/xor_neural_network.png?raw=1\" style=\"width: 400px;\">"
      ]
    },
    {
      "cell_type": "markdown",
      "metadata": {
        "id": "LBZAxtq9Atyq"
      },
      "source": [
        "The above network shows neurons N0, N1, and N2 with the bias inputs omitted.  We do not also show the weights in the figure. We use tanh as an activation function for N0 and N1 and the logistic sigmoid function as an activation function for the output neuron N2, and we use MSE as the loss function."
      ]
    },
    {
      "cell_type": "markdown",
      "metadata": {
        "id": "_sVgqwqpAtyq"
      },
      "source": [
        "The XOR gates are the basis of computation and are often called in \"half-adders\", the foundation of being able to add numbers together. Here's the truth table for XOR:\n",
        "\n",
        "### XOR (Exclusive Or) Gate\n",
        "\n",
        "<table>\n",
        "\n",
        "<tr>\n",
        "<th colspan=\"3\">XOR gate truth table</th>\n",
        "</tr>\n",
        "\n",
        "<tr>\n",
        "<th colspan=\"2\">Input</th>\n",
        "<th>Output</th>\n",
        "</tr>\n",
        "\n",
        "<tr>\n",
        "<td>0</td>\n",
        "<td>0</td>\n",
        "<td>0</td>\n",
        "</tr>\n",
        "\n",
        "<tr>\n",
        "<td>0</td>\n",
        "<td>1</td>\n",
        "<td>1</td>\n",
        "</tr>\n",
        "\n",
        "<tr>\n",
        "<td>1</td>\n",
        "<td>0</td>\n",
        "<td>1</td>\n",
        "</tr>\n",
        "\n",
        "<tr>\n",
        "<td>1</td>\n",
        "<td>1</td>\n",
        "<td>0</td>\n",
        "</tr>\n",
        "\n",
        "</table>"
      ]
    },
    {
      "cell_type": "markdown",
      "metadata": {
        "id": "Abz0C7_AAtyr"
      },
      "source": [
        "### Init Code for XOR Learning Example"
      ]
    },
    {
      "cell_type": "code",
      "execution_count": 9,
      "metadata": {
        "id": "oadPAS3uAtyr"
      },
      "outputs": [],
      "source": [
        "import numpy as np\n",
        "\n",
        "np.random.seed(3) # To make repeatable\n",
        "LEARNING_RATE = 0.1\n",
        "index_list = [0, 1, 2, 3] # Used to randomize order\n",
        "\n",
        "# Define training examples.\n",
        "x_train = [np.array([1.0, -1.0, -1.0]),\n",
        "           np.array([1.0, -1.0, 1.0]),\n",
        "           np.array([1.0, 1.0, -1.0]),\n",
        "           np.array([1.0, 1.0, 1.0])]\n",
        "y_train = [-1.0, -1.0, -1.0, 0.0] # Output (ground truth)"
      ]
    },
    {
      "cell_type": "markdown",
      "metadata": {
        "id": "yaQyfDbmAtyr"
      },
      "source": [
        "### Variables Needed to Track State of Neurons"
      ]
    },
    {
      "cell_type": "code",
      "execution_count": 10,
      "metadata": {
        "id": "M6ly1TbDAtyr"
      },
      "outputs": [],
      "source": [
        "def neuron_w(input_count):\n",
        "    weights = np.zeros(input_count+1)\n",
        "    for i in range(1, (input_count+1)):\n",
        "        weights[i] = np.random.uniform(-1.0, 1.0)\n",
        "    return weights\n",
        "\n",
        "n_w = [neuron_w(2), neuron_w(2), neuron_w(2)]\n",
        "n_y = [0, 0, 0]\n",
        "n_error = [0, 0, 0]"
      ]
    },
    {
      "cell_type": "markdown",
      "metadata": {
        "id": "8hRfm8GHAtyr"
      },
      "source": [
        "### Helper Functions for Backpropagation:"
      ]
    },
    {
      "cell_type": "code",
      "execution_count": 11,
      "metadata": {
        "id": "3rlw6oORAtyr"
      },
      "outputs": [],
      "source": [
        "def show_learning():\n",
        "    print('Current weights:')\n",
        "    for i, w in enumerate(n_w):\n",
        "        print('neuron ', i, ': w0 =', '%5.2f' % w[0],\n",
        "              ', w1 =', '%5.2f' % w[1], ', w2 =',\n",
        "              '%5.2f' % w[2])\n",
        "    print('----------------')\n",
        "\n",
        "def forward_pass(x):\n",
        "    global n_y\n",
        "    n_y[0] = np.tanh(np.dot(n_w[0], x)) # Neuron 0\n",
        "    n_y[1] = np.tanh(np.dot(n_w[1], x)) # Neuron 1\n",
        "    n2_inputs = np.array([1.0, n_y[0], n_y[1]]) # 1.0 is bias\n",
        "    z2 = np.dot(n_w[2], n2_inputs)\n",
        "    n_y[2] = 1.0 / (1.0 + np.exp(-z2))\n",
        "\n",
        "def backward_pass(y_truth):\n",
        "    global n_error\n",
        "    error_prime = -(y_truth - n_y[2]) # Derivative of loss-func\n",
        "    derivative = n_y[2] * (1.0 - n_y[2]) # Logistic derivative\n",
        "    n_error[2] = error_prime * derivative\n",
        "    derivative = 1.0 - n_y[0]**2 # tanh derivative\n",
        "    n_error[0] = n_w[2][1] * n_error[2] * derivative\n",
        "    derivative = 1.0 - n_y[1]**2 # tanh derivative\n",
        "    n_error[1] = n_w[2][2] * n_error[2] * derivative\n",
        "\n",
        "def adjust_weights(x):\n",
        "    global n_w\n",
        "    n_w[0] -= (x * LEARNING_RATE * n_error[0])\n",
        "    n_w[1] -= (x * LEARNING_RATE * n_error[1])\n",
        "    n2_inputs = np.array([1.0, n_y[0], n_y[1]]) # 1.0 is bias\n",
        "    n_w[2] -= (n2_inputs * LEARNING_RATE * n_error[2])"
      ]
    },
    {
      "cell_type": "markdown",
      "metadata": {
        "id": "_pLHxEVXAtys"
      },
      "source": [
        "### Training Loop to Learn the XOR Function with Backpropagation"
      ]
    },
    {
      "cell_type": "code",
      "execution_count": 12,
      "metadata": {
        "id": "aJhs1_0kAtys",
        "outputId": "ee979906-53c7-41a7-8ca3-09f737b91495",
        "colab": {
          "base_uri": "https://localhost:8080/"
        }
      },
      "outputs": [
        {
          "output_type": "stream",
          "name": "stdout",
          "text": [
            "Current weights:\n",
            "neuron  0 : w0 = -0.02 , w1 =  0.08 , w2 =  0.44\n",
            "neuron  1 : w0 = -0.02 , w1 = -0.44 , w2 =  0.04\n",
            "neuron  2 : w0 = -0.03 , w1 =  0.80 , w2 =  0.81\n",
            "----------------\n",
            "Current weights:\n",
            "neuron  0 : w0 = -0.04 , w1 =  0.10 , w2 =  0.46\n",
            "neuron  1 : w0 = -0.05 , w1 = -0.41 , w2 =  0.07\n",
            "neuron  2 : w0 = -0.07 , w1 =  0.81 , w2 =  0.79\n",
            "----------------\n",
            "Current weights:\n",
            "neuron  0 : w0 = -0.05 , w1 =  0.09 , w2 =  0.45\n",
            "neuron  1 : w0 = -0.05 , w1 = -0.42 , w2 =  0.06\n",
            "neuron  2 : w0 = -0.08 , w1 =  0.81 , w2 =  0.80\n",
            "----------------\n",
            "Current weights:\n",
            "neuron  0 : w0 = -0.08 , w1 =  0.12 , w2 =  0.42\n",
            "neuron  1 : w0 = -0.08 , w1 = -0.40 , w2 =  0.03\n",
            "neuron  2 : w0 = -0.12 , w1 =  0.80 , w2 =  0.78\n",
            "----------------\n",
            "x1 = -1.0 , x2 = -1.0 , y = 0.4143\n",
            "x1 = -1.0 , x2 =  1.0 , y = 0.5790\n",
            "x1 =  1.0 , x2 = -1.0 , y = 0.3148\n",
            "x1 =  1.0 , x2 =  1.0 , y = 0.4755\n",
            "Current weights:\n",
            "neuron  0 : w0 = -0.11 , w1 =  0.15 , w2 =  0.40\n",
            "neuron  1 : w0 = -0.11 , w1 = -0.37 , w2 =  0.01\n",
            "neuron  2 : w0 = -0.16 , w1 =  0.79 , w2 =  0.77\n",
            "----------------\n",
            "Current weights:\n",
            "neuron  0 : w0 = -0.13 , w1 =  0.13 , w2 =  0.42\n",
            "neuron  1 : w0 = -0.12 , w1 = -0.39 , w2 =  0.02\n",
            "neuron  2 : w0 = -0.19 , w1 =  0.80 , w2 =  0.78\n",
            "----------------\n",
            "Current weights:\n",
            "neuron  0 : w0 = -0.14 , w1 =  0.12 , w2 =  0.41\n",
            "neuron  1 : w0 = -0.13 , w1 = -0.39 , w2 =  0.02\n",
            "neuron  2 : w0 = -0.20 , w1 =  0.79 , w2 =  0.79\n",
            "----------------\n",
            "Current weights:\n",
            "neuron  0 : w0 = -0.15 , w1 =  0.14 , w2 =  0.43\n",
            "neuron  1 : w0 = -0.16 , w1 = -0.37 , w2 =  0.04\n",
            "neuron  2 : w0 = -0.23 , w1 =  0.81 , w2 =  0.78\n",
            "----------------\n",
            "x1 = -1.0 , x2 = -1.0 , y = 0.3549\n",
            "x1 = -1.0 , x2 =  1.0 , y = 0.5178\n",
            "x1 =  1.0 , x2 = -1.0 , y = 0.2760\n",
            "x1 =  1.0 , x2 =  1.0 , y = 0.4347\n",
            "Current weights:\n",
            "neuron  0 : w0 = -0.16 , w1 =  0.13 , w2 =  0.42\n",
            "neuron  1 : w0 = -0.16 , w1 = -0.38 , w2 =  0.04\n",
            "neuron  2 : w0 = -0.24 , w1 =  0.81 , w2 =  0.78\n",
            "----------------\n",
            "Current weights:\n",
            "neuron  0 : w0 = -0.18 , w1 =  0.12 , w2 =  0.43\n",
            "neuron  1 : w0 = -0.18 , w1 = -0.39 , w2 =  0.05\n",
            "neuron  2 : w0 = -0.27 , w1 =  0.82 , w2 =  0.80\n",
            "----------------\n",
            "Current weights:\n",
            "neuron  0 : w0 = -0.19 , w1 =  0.13 , w2 =  0.45\n",
            "neuron  1 : w0 = -0.20 , w1 = -0.37 , w2 =  0.07\n",
            "neuron  2 : w0 = -0.30 , w1 =  0.84 , w2 =  0.79\n",
            "----------------\n",
            "Current weights:\n",
            "neuron  0 : w0 = -0.22 , w1 =  0.16 , w2 =  0.42\n",
            "neuron  1 : w0 = -0.23 , w1 = -0.34 , w2 =  0.05\n",
            "neuron  2 : w0 = -0.33 , w1 =  0.83 , w2 =  0.78\n",
            "----------------\n",
            "x1 = -1.0 , x2 = -1.0 , y = 0.3021\n",
            "x1 = -1.0 , x2 =  1.0 , y = 0.4539\n",
            "x1 =  1.0 , x2 = -1.0 , y = 0.2437\n",
            "x1 =  1.0 , x2 =  1.0 , y = 0.3957\n"
          ]
        }
      ],
      "source": [
        "# Network training loop.\n",
        "all_correct = False\n",
        "while not all_correct: # Train until converged\n",
        "    all_correct = True\n",
        "    np.random.shuffle(index_list) # Randomize order\n",
        "    for i in index_list: # Train on all examples\n",
        "        forward_pass(x_train[i])\n",
        "        backward_pass(y_train[i])\n",
        "        adjust_weights(x_train[i])\n",
        "        show_learning() # Show updated weights\n",
        "    for i in range(len(x_train)): # Check if converged\n",
        "        forward_pass(x_train[i])\n",
        "        print('x1 =', '%4.1f' % x_train[i][1], ', x2 =',\n",
        "              '%4.1f' % x_train[i][2], ', y =',\n",
        "              '%.4f' % n_y[2])\n",
        "        if(((y_train[i] < 0.5) and (n_y[2] >= 0.5))\n",
        "                or ((y_train[i] >= 0.5) and (n_y[2] < 0.5))):\n",
        "            all_correct = False"
      ]
    },
    {
      "cell_type": "markdown",
      "metadata": {
        "id": "_BpiCskNAtys"
      },
      "source": []
    }
  ],
  "metadata": {
    "colab": {
      "name": "Notebook2.1.ipynb",
      "provenance": [],
      "toc_visible": true
    },
    "kernelspec": {
      "display_name": "Python 3",
      "language": "python",
      "name": "python3"
    },
    "language_info": {
      "codemirror_mode": {
        "name": "ipython",
        "version": 3
      },
      "file_extension": ".py",
      "mimetype": "text/x-python",
      "name": "python",
      "nbconvert_exporter": "python",
      "pygments_lexer": "ipython3",
      "version": "3.10.11"
    }
  },
  "nbformat": 4,
  "nbformat_minor": 0
}